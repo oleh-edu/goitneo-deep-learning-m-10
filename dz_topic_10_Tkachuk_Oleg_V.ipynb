{
  "nbformat": 4,
  "nbformat_minor": 0,
  "metadata": {
    "colab": {
      "provenance": []
    },
    "kernelspec": {
      "name": "python3",
      "display_name": "Python 3"
    },
    "language_info": {
      "name": "python"
    }
  },
  "cells": [
    {
      "cell_type": "code",
      "execution_count": 26,
      "metadata": {
        "colab": {
          "base_uri": "https://localhost:8080/"
        },
        "id": "EyZaJ1bQ4Q_s",
        "outputId": "5b386d88-5082-4a9d-b481-a6ef804fc7dd"
      },
      "outputs": [
        {
          "output_type": "stream",
          "name": "stderr",
          "text": [
            "[nltk_data] Downloading package stopwords to /root/nltk_data...\n",
            "[nltk_data]   Package stopwords is already up-to-date!\n"
          ]
        },
        {
          "output_type": "stream",
          "name": "stdout",
          "text": [
            "Drive already mounted at /content/drive; to attempt to forcibly remount, call drive.mount(\"/content/drive\", force_remount=True).\n"
          ]
        }
      ],
      "source": [
        "import re\n",
        "import nltk\n",
        "import numpy as np\n",
        "import pandas as pd\n",
        "import seaborn as sns\n",
        "import matplotlib.pyplot as plt\n",
        "from sklearn.ensemble import RandomForestClassifier\n",
        "from sklearn.linear_model import LogisticRegression\n",
        "from sklearn.model_selection import train_test_split\n",
        "from sklearn.feature_extraction.text import CountVectorizer, TfidfVectorizer\n",
        "from sklearn.metrics import accuracy_score, roc_auc_score, classification_report\n",
        "from nltk.corpus import stopwords\n",
        "nltk.download('stopwords')\n",
        "from google.colab import drive\n",
        "drive.mount('/content/drive')"
      ]
    },
    {
      "cell_type": "markdown",
      "source": [
        "**Data preparation: Downloading and distributing data**"
      ],
      "metadata": {
        "id": "ca3kmYBrCcIg"
      }
    },
    {
      "cell_type": "code",
      "source": [
        "!mkdir -p /content/dataset/\n",
        "!mkdir -p /content/pretrained_models/\n",
        "!cp -v /content/drive/MyDrive/Dataset/email-spam-detection-dataset-classification/spam.csv /content/dataset/spam.csv\n",
        "!cp -v /content/drive/MyDrive/Pretrained_Models/glove.6B/glove.6B.100d.txt /content/pretrained_models/glove.6B.100d.txt"
      ],
      "metadata": {
        "colab": {
          "base_uri": "https://localhost:8080/"
        },
        "id": "Y1NxvNM6YNTi",
        "outputId": "14d358d6-f7bd-451e-a796-f4b1fcfa2959"
      },
      "execution_count": 27,
      "outputs": [
        {
          "output_type": "stream",
          "name": "stdout",
          "text": [
            "'/content/drive/MyDrive/Dataset/email-spam-detection-dataset-classification/spam.csv' -> '/content/dataset/spam.csv'\n",
            "'/content/drive/MyDrive/Pretrained_Models/glove.6B/glove.6B.100d.txt' -> '/content/pretrained_models/glove.6B.100d.txt'\n"
          ]
        }
      ]
    },
    {
      "cell_type": "code",
      "source": [
        "# Download the dataset\n",
        "path_to_dataset_file = '/content/dataset/spam.csv'\n",
        "data = pd.read_csv(path_to_dataset_file, encoding='latin-1')\n",
        "\n",
        "data.info()"
      ],
      "metadata": {
        "colab": {
          "base_uri": "https://localhost:8080/"
        },
        "id": "upY3-UGEcdff",
        "outputId": "29fca608-4145-45f9-efe4-53d90331ba08"
      },
      "execution_count": 28,
      "outputs": [
        {
          "output_type": "stream",
          "name": "stdout",
          "text": [
            "<class 'pandas.core.frame.DataFrame'>\n",
            "RangeIndex: 5572 entries, 0 to 5571\n",
            "Data columns (total 5 columns):\n",
            " #   Column      Non-Null Count  Dtype \n",
            "---  ------      --------------  ----- \n",
            " 0   v1          5572 non-null   object\n",
            " 1   v2          5572 non-null   object\n",
            " 2   Unnamed: 2  50 non-null     object\n",
            " 3   Unnamed: 3  12 non-null     object\n",
            " 4   Unnamed: 4  6 non-null      object\n",
            "dtypes: object(5)\n",
            "memory usage: 217.8+ KB\n"
          ]
        }
      ]
    },
    {
      "cell_type": "code",
      "source": [
        "data = data[['v1', 'v2']]  # v1 - class (spam/ham), v2 - message text\n",
        "data.columns = ['label', 'text']\n",
        "\n",
        "# Convert the class to numeric values: spam -> 1, ham -> 0\n",
        "data['label'] = data['label'].map({'spam': 1, 'ham': 0})\n",
        "\n",
        "# Split into training and validation samples\n",
        "X_train, X_val, y_train, y_val = train_test_split(data['text'], data['label'], test_size=0.2, random_state=42)\n",
        "\n",
        "# Estimation of the distribution of the target variable\n",
        "sns.countplot(data['label'])\n",
        "plt.show()"
      ],
      "metadata": {
        "colab": {
          "base_uri": "https://localhost:8080/",
          "height": 430
        },
        "id": "cgkNVUkkCdSU",
        "outputId": "3f0948f2-d067-442c-8ded-2d95088d6a26"
      },
      "execution_count": 29,
      "outputs": [
        {
          "output_type": "display_data",
          "data": {
            "text/plain": [
              "<Figure size 640x480 with 1 Axes>"
            ],
            "image/png": "[encoded data removed]"
          },
          "metadata": {}
        }
      ]
    },
    {
      "cell_type": "markdown",
      "source": [
        "**Data preparation: Text pre-processing**"
      ],
      "metadata": {
        "id": "qJwHBSgMCtz-"
      }
    },
    {
      "cell_type": "code",
      "source": [
        "stop_words = set(stopwords.words('english'))\n",
        "\n",
        "def preprocess_text(text):\n",
        "    # Convert text to lowercase\n",
        "    text = text.lower()\n",
        "    # Remove special characters and numbers\n",
        "    text = re.sub(r'[^a-z\\s]', '', text)\n",
        "    # Remove stop words\n",
        "    text = ' '.join([word for word in text.split() if word not in stop_words])\n",
        "    return text\n",
        "\n",
        "# Apply pre-processing\n",
        "X_train = X_train.apply(preprocess_text)\n",
        "X_val = X_val.apply(preprocess_text)"
      ],
      "metadata": {
        "id": "7A1SpHz6Cu3V"
      },
      "execution_count": 30,
      "outputs": []
    },
    {
      "cell_type": "markdown",
      "source": [
        "**Application of BoW and TF-IDF: BoW (Bag of Words)**"
      ],
      "metadata": {
        "id": "qTzFZe9xC1Vs"
      }
    },
    {
      "cell_type": "code",
      "source": [
        "bow_vectorizer = CountVectorizer(max_features=5000, ngram_range=(1, 2))\n",
        "X_train_bow = bow_vectorizer.fit_transform(X_train)\n",
        "X_val_bow = bow_vectorizer.transform(X_val)"
      ],
      "metadata": {
        "id": "OgJIUiZ8C2dO"
      },
      "execution_count": 31,
      "outputs": []
    },
    {
      "cell_type": "markdown",
      "source": [
        "**Application of BoW and TF-IDF: TF-IDF (Term Frequency-Inverse Document Frequency)**"
      ],
      "metadata": {
        "id": "vDePsXqjC4Ar"
      }
    },
    {
      "cell_type": "code",
      "source": [
        "tfidf_vectorizer = TfidfVectorizer(max_features=5000, ngram_range=(1, 2))\n",
        "X_train_tfidf = tfidf_vectorizer.fit_transform(X_train)\n",
        "X_val_tfidf = tfidf_vectorizer.transform(X_val)"
      ],
      "metadata": {
        "id": "kcGzyN16C55N"
      },
      "execution_count": 32,
      "outputs": []
    },
    {
      "cell_type": "markdown",
      "source": [
        "**Use of pre-trained embeds: Downloading an embedding model (for example, GloVe)**"
      ],
      "metadata": {
        "id": "26kVqYgIDAY3"
      }
    },
    {
      "cell_type": "code",
      "source": [
        "# Download pre-trained GloVe embeddings\n",
        "path_to_embeddings_file = '/content/pretrained_models/glove.6B.100d.txt'\n",
        "embeddings_index = {}\n",
        "with open(path_to_embeddings_file, 'r', encoding='utf-8') as f:\n",
        "    for line in f:\n",
        "        values = line.split()\n",
        "        word = values[0]\n",
        "        coefs = np.asarray(values[1:], dtype='float32')\n",
        "        embeddings_index[word] = coefs"
      ],
      "metadata": {
        "id": "m7TvJZq6DByy"
      },
      "execution_count": 33,
      "outputs": []
    },
    {
      "cell_type": "markdown",
      "source": [
        "**Use of pre-trained embeds: Convert text to embedding vectors**"
      ],
      "metadata": {
        "id": "B2HHF0HmDHOi"
      }
    },
    {
      "cell_type": "code",
      "source": [
        "def text_to_embedding(text):\n",
        "    words = text.split()\n",
        "    # Create embedding only for those words that are in the embeddings_index\n",
        "    valid_embeddings = [embeddings_index.get(w, np.zeros(100)) for w in words if w in embeddings_index]\n",
        "\n",
        "    # If there is no word with embedding, return a null vector\n",
        "    if len(valid_embeddings) > 0:\n",
        "        embedding = np.mean(valid_embeddings, axis=0)\n",
        "    else:\n",
        "        embedding = np.zeros(100)  # Return a null vector of size 100\n",
        "\n",
        "    return embedding\n",
        "\n",
        "X_train_embed = np.vstack([text_to_embedding(text) for text in X_train])\n",
        "X_val_embed = np.vstack([text_to_embedding(text) for text in X_val])"
      ],
      "metadata": {
        "id": "E_xfODvpDDiK"
      },
      "execution_count": 34,
      "outputs": []
    },
    {
      "cell_type": "markdown",
      "source": [
        "**Building and training models: BoW-based model**"
      ],
      "metadata": {
        "id": "ebq9xVk3DKVS"
      }
    },
    {
      "cell_type": "code",
      "source": [
        "model_bow = LogisticRegression(max_iter=1000)\n",
        "model_bow.fit(X_train_bow, y_train)\n",
        "y_pred_bow = model_bow.predict(X_val_bow)"
      ],
      "metadata": {
        "id": "U8_hO3uLDPrm"
      },
      "execution_count": 35,
      "outputs": []
    },
    {
      "cell_type": "markdown",
      "source": [
        "**Building and training models: Model based on TF-IDF**"
      ],
      "metadata": {
        "id": "Ef0ri439DRLV"
      }
    },
    {
      "cell_type": "code",
      "source": [
        "model_tfidf = RandomForestClassifier(n_estimators=100)\n",
        "model_tfidf.fit(X_train_tfidf, y_train)\n",
        "y_pred_tfidf = model_tfidf.predict(X_val_tfidf)"
      ],
      "metadata": {
        "id": "peUT6oHTDUb5"
      },
      "execution_count": 36,
      "outputs": []
    },
    {
      "cell_type": "markdown",
      "source": [
        "**Building and training models: Model with embeddings**"
      ],
      "metadata": {
        "id": "f7BFLbQvDWOg"
      }
    },
    {
      "cell_type": "code",
      "source": [
        "model_embed = LogisticRegression(max_iter=1000)\n",
        "model_embed.fit(X_train_embed, y_train)\n",
        "y_pred_embed = model_embed.predict(X_val_embed)"
      ],
      "metadata": {
        "id": "zhZXFytYDbn6"
      },
      "execution_count": 37,
      "outputs": []
    },
    {
      "cell_type": "markdown",
      "source": [
        "**Evaluation of models: Performance metrics**"
      ],
      "metadata": {
        "id": "em3P2P2RHhvI"
      }
    },
    {
      "cell_type": "code",
      "source": [
        "# Score for BoW\n",
        "print(\"BoW Accuracy:\", accuracy_score(y_val, y_pred_bow))\n",
        "print(\"BoW AUC:\", roc_auc_score(y_val, y_pred_bow))\n",
        "\n",
        "# Score for TF-IDF\n",
        "print(\"TF-IDF Accuracy:\", accuracy_score(y_val, y_pred_tfidf))\n",
        "print(\"TF-IDF AUC:\", roc_auc_score(y_val, y_pred_tfidf))\n",
        "\n",
        "# Score for embeddeds\n",
        "print(\"Embeddings Accuracy:\", accuracy_score(y_val, y_pred_embed))\n",
        "print(\"Embeddings AUC:\", roc_auc_score(y_val, y_pred_embed))"
      ],
      "metadata": {
        "colab": {
          "base_uri": "https://localhost:8080/"
        },
        "id": "-xBKaGyRHlqg",
        "outputId": "faca8592-cb40-4f72-bcc0-54c68f0edfc5"
      },
      "execution_count": 38,
      "outputs": [
        {
          "output_type": "stream",
          "name": "stdout",
          "text": [
            "BoW Accuracy: 0.9757847533632287\n",
            "BoW AUC: 0.9099999999999999\n",
            "TF-IDF Accuracy: 0.9748878923766816\n",
            "TF-IDF AUC: 0.9066666666666667\n",
            "Embeddings Accuracy: 0.9345291479820628\n",
            "Embeddings AUC: 0.838307426597582\n"
          ]
        }
      ]
    },
    {
      "cell_type": "markdown",
      "source": [
        "**Порівняння результатів моделей**\n",
        "\n",
        "*Accuracy:*\n",
        "\n",
        "- Bag of Words (BoW) і TF-IDF показали дуже близькі результати з високою точністю. Обидві моделі мають точність близько 97.5%, що свідчить про їхню здатність добре класифікувати електронні листи на спам та легітимні повідомлення.\n",
        "\n",
        "- Модель на основі ембедингів (GloVe) показала дещо нижчу точність — 93.45%. Це свідчить про те, що в контексті цього набору даних попередньо навчені ембедінги не дають такої ж точності, як методи на основі підрахунку слів (BoW і TF-IDF).\n",
        "\n",
        "*AUC (Area Under the Curve):*\n",
        "\n",
        "- BoW також демонструє трохи кращий результат за метрикою AUC (0.9100) у порівнянні з TF-IDF (0.9067). AUC вказує на здатність моделі розрізняти між класами спам і легітимні повідомлення незалежно від порогового значення.\n",
        "\n",
        "- Модель на основі ембедингів має найнижчий результат AUC (0.8383), що свідчить про меншу здатність розрізняти між класами у порівнянні з методами на основі підрахунків слів.\n",
        "\n",
        "**Базовий аналіз результатів**\n",
        "\n",
        "- BoW та TF-IDF показують дуже близькі результати як за точністю, так і за AUC. Ці моделі базуються на частотах слів і більш точні для цієї задачі. У класифікації спаму важливим фактором є наявність або частота ключових слів, що пояснює хорошу роботу цих моделей. BoW може бути трохи кращим, оскільки він враховує кількість слів, що має більшу вагу в контексті класифікації спаму, де певні слова зустрічаються частіше.\n",
        "\n",
        "- Модель на основі ембедингів (GloVe) має нижчі показники як за точністю, так і за AUC. Хоча векторні представлення слів дають багатовимірне контекстуальне представлення, цей підхід може бути менш ефективним для задачі класифікації спаму, де важлива не лише семантична подібність слів, але й конкретні ключові слова. GloVe не завжди може вловити специфічні нюанси, пов’язані зі спамом, оскільки він більше фокусується на загальній семантичній структурі мови.\n",
        "\n",
        "**Висновок**\n",
        "\n",
        "Для задачі класифікації спаму методи BoW та TF-IDF є більш придатними через їхню здатність працювати з частотними характеристиками слів. Використання попередньо навчених ембедингів, як-от GloVe, може бути менш ефективним для такої специфічної задачі, де ключові слова мають більший вплив на результати."
      ],
      "metadata": {
        "id": "6Oq4xQR-_xgw"
      }
    }
  ]
}